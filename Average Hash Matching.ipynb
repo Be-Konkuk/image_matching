{
 "cells": [
  {
   "cell_type": "code",
   "execution_count": 3,
   "id": "21597e2d",
   "metadata": {},
   "outputs": [
    {
     "name": "stdout",
     "output_type": "stream",
     "text": [
      "Images/randoms/KakaoTalk_Photo_2021-10-13-22-15-58 015.jpeg 0.49609375\n",
      "Images/randoms/KakaoTalk_Photo_2021-10-13-22-15-55 008.jpeg 0.44921875\n",
      "Images/randoms/KakaoTalk_Photo_2021-10-13-22-15-55 009.jpeg 0.4765625\n",
      "Images/randoms/KakaoTalk_Photo_2021-10-13-22-15-55 010.jpeg 0.4765625\n",
      "Images/randoms/KakaoTalk_Photo_2021-10-13-22-15-54 006.jpeg 0.40625\n",
      "Images/randoms/KakaoTalk_Photo_2021-10-13-22-15-55 007.jpeg 0.375\n",
      "Images/randoms/KakaoTalk_Photo_2021-10-13-22-15-58 016.jpeg 0.4296875\n"
     ]
    }
   ],
   "source": [
    "# 사물 이미지 중에서 권총 이미지 찾기 (avg_hash_matching.py)\n",
    "\n",
    "import cv2\n",
    "import numpy as np\n",
    "import glob\n",
    "\n",
    "# 영상 읽기 및 표시\n",
    "img = cv2.imread('Images/query22.png')\n",
    "cv2.imshow('query', img)\n",
    "\n",
    "# 비교할 영상들이 있는 경로 ---①\n",
    "search_dir = 'Images/randoms/'\n",
    "\n",
    "# 이미지를 16x16 크기의 평균 해쉬로 변환 ---②\n",
    "def img2hash(img):\n",
    "    gray = cv2.cvtColor(img, cv2.COLOR_BGR2GRAY)\n",
    "    gray = cv2.resize(gray, (16, 16))\n",
    "    avg = gray.mean()\n",
    "    bi = 1 * (gray > avg)\n",
    "    return bi\n",
    "\n",
    "# 해밍거리 측정 함수 ---③\n",
    "def hamming_distance(a, b):\n",
    "    a = a.reshape(1,-1)\n",
    "    b = b.reshape(1,-1)\n",
    "    # 같은 자리의 값이 서로 다른 것들의 합\n",
    "    distance = (a !=b).sum()\n",
    "    return distance\n",
    "\n",
    "# 권총 영상의 해쉬 구하기 ---④\n",
    "query_hash = img2hash(img)\n",
    "\n",
    "# 이미지 데이타 셋 디렉토리의 모든 영상 파일 경로 ---⑤\n",
    "img_path = glob.glob(search_dir+'*.jpeg')\n",
    "for path in img_path:\n",
    "    # 데이타 셋 영상 한개 읽어서 표시 ---⑥\n",
    "    img = cv2.imread(path)\n",
    "    cv2.imshow('searching...', img)\n",
    "    cv2.waitKey(5)\n",
    "    # 데이타 셋 영상 한개의 해시  ---⑦\n",
    "    a_hash = img2hash(img)\n",
    "    # 해밍 거리 산출 ---⑧\n",
    "    dst = hamming_distance(query_hash, a_hash)\n",
    "    if dst/256 < 0.5: # 해밍거리 25% 이내만 출력 ---⑨\n",
    "        print(path, dst/256)\n",
    "        cv2.imshow(path, img)\n",
    "cv2.destroyWindow('searching...')\n",
    "cv2.destroyAllWindows()"
   ]
  },
  {
   "cell_type": "code",
   "execution_count": 2,
   "id": "c96f9d3c",
   "metadata": {},
   "outputs": [],
   "source": [
    "cv2.destroyAllWindows()"
   ]
  },
  {
   "cell_type": "code",
   "execution_count": null,
   "id": "5fa3938a",
   "metadata": {},
   "outputs": [],
   "source": []
  }
 ],
 "metadata": {
  "kernelspec": {
   "display_name": "Python 3",
   "language": "python",
   "name": "python3"
  },
  "language_info": {
   "codemirror_mode": {
    "name": "ipython",
    "version": 3
   },
   "file_extension": ".py",
   "mimetype": "text/x-python",
   "name": "python",
   "nbconvert_exporter": "python",
   "pygments_lexer": "ipython3",
   "version": "3.8.8"
  }
 },
 "nbformat": 4,
 "nbformat_minor": 5
}
